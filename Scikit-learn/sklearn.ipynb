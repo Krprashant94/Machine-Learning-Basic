{
 "cells": [
  {
   "cell_type": "markdown",
   "metadata": {},
   "source": [
    "# Basics of machine learning"
   ]
  },
  {
   "cell_type": "markdown",
   "metadata": {},
   "source": [
    "### Imports\n",
    "\n",
    "Essential import for this tutorial which will use in different part of tutorial"
   ]
  },
  {
   "cell_type": "code",
   "execution_count": 12,
   "metadata": {},
   "outputs": [],
   "source": [
    "import numpy as np\n",
    "import pandas as pd\n",
    "import matplotlib.pyplot as plt\n",
    "\n",
    "from sklearn.metrics import mean_absolute_error\n",
    "from sklearn.metrics import mean_squared_error\n",
    "from sklearn.metrics import explained_variance_score\n",
    "\n",
    "\n",
    "from sklearn import datasets\n",
    "\n",
    "from sklearn import linear_model\n",
    "from sklearn import svm\n",
    "from sklearn.tree import DecisionTreeClassifier\n",
    "from sklearn.ensemble import RandomForestClassifier\n",
    "from sklearn.cluster import KMeans\n",
    "from sklearn.neighbors import KNeighborsClassifier\n"
   ]
  },
  {
   "cell_type": "markdown",
   "metadata": {},
   "source": [
    "##### Error mesurment in sklearn "
   ]
  },
  {
   "cell_type": "code",
   "execution_count": 13,
   "metadata": {},
   "outputs": [
    {
     "name": "stdout",
     "output_type": "stream",
     "text": [
      "Mean Abs Error :  0.17499999999999988\n",
      "Mean Sqr Error :  0.03749999999999996\n",
      "Mean Var Error :  0.9945\n"
     ]
    }
   ],
   "source": [
    "# import numpy as np\n",
    "# from sklearn.metrics import mean_absolute_error\n",
    "# from sklearn.metrics import mean_squared_error\n",
    "# from sklearn.metrics import explained_variance_score\n",
    "\n",
    "actual = np.array([1,2,3,4])\n",
    "predect = np.array([1.2,2.1,3.3,4.1])\n",
    "mae = mean_absolute_error(actual, predect)\n",
    "mse = mean_squared_error(actual, predect)\n",
    "\n",
    "var = explained_variance_score(actual, predect)\n",
    "print(\"Mean Abs Error : \", mae)\n",
    "print(\"Mean Sqr Error : \", mse)\n",
    "print(\"Mean Var Error : \", var)"
   ]
  },
  {
   "cell_type": "markdown",
   "metadata": {},
   "source": [
    "### Dataset Pripration\n",
    "\n",
    "We are using sklearn iris dataset "
   ]
  },
  {
   "cell_type": "code",
   "execution_count": 14,
   "metadata": {},
   "outputs": [
    {
     "name": "stdout",
     "output_type": "stream",
     "text": [
      "Iris set count: 6\n",
      "Data shape: (150, 4)\n",
      "target shape: (150, 1)\n"
     ]
    }
   ],
   "source": [
    "# import pandas as pd\n",
    "# from sklearn import datasets\n",
    "\n",
    "iris_set = datasets.load_iris()\n",
    "print(\"Iris set count:\", len(iris_set))\n",
    "data = pd.DataFrame(iris_set.data[:,0:4])\n",
    "data.columns = ['a', 'b', 'c', 'd']\n",
    "target = pd.DataFrame(iris_set.target)\n",
    "target.columns = ['e']\n",
    "\n",
    "print(\"Data shape:\", data.shape)\n",
    "print(\"target shape:\", target.shape)\n",
    "\n",
    "#'target_names': array(['setosa', 'versicolor', 'virginica'], "
   ]
  },
  {
   "cell_type": "markdown",
   "metadata": {},
   "source": [
    "### Linear Regression\n",
    "\n",
    "Linear Regression model "
   ]
  },
  {
   "cell_type": "code",
   "execution_count": 15,
   "metadata": {},
   "outputs": [
    {
     "name": "stdout",
     "output_type": "stream",
     "text": [
      "[[0.87240699]]\n",
      "[[-0.11190585 -0.04007949  0.22864503  0.60925205]]\n"
     ]
    }
   ],
   "source": [
    "# from sklearn import linear_model\n",
    "\n",
    "model = linear_model.LinearRegression()\n",
    "reg = model.fit(data, target)\n",
    "predict = model.predict([[1,1,1,1]])\n",
    "print(predict) \n",
    "# 0.87 near to 1\n",
    "print(model.coef_)"
   ]
  },
  {
   "cell_type": "markdown",
   "metadata": {},
   "source": [
    "### Logistic Regration\n",
    "\n",
    "Logistic Regration Used in classification problem (binary or multi)"
   ]
  },
  {
   "cell_type": "code",
   "execution_count": 16,
   "metadata": {},
   "outputs": [
    {
     "name": "stdout",
     "output_type": "stream",
     "text": [
      "[2]\n",
      "[[ 0.41021713  1.46416217 -2.26003266 -1.02103509]\n",
      " [ 0.4275087  -1.61211605  0.5758173  -1.40617325]\n",
      " [-1.70751526 -1.53427768  2.47096755  2.55537041]]\n"
     ]
    },
    {
     "name": "stderr",
     "output_type": "stream",
     "text": [
      "/home/prashant/anaconda3/envs/ML/lib/python3.6/site-packages/sklearn/linear_model/logistic.py:433: FutureWarning: Default solver will be changed to 'lbfgs' in 0.22. Specify a solver to silence this warning.\n",
      "  FutureWarning)\n",
      "/home/prashant/anaconda3/envs/ML/lib/python3.6/site-packages/sklearn/utils/validation.py:761: DataConversionWarning: A column-vector y was passed when a 1d array was expected. Please change the shape of y to (n_samples, ), for example using ravel().\n",
      "  y = column_or_1d(y, warn=True)\n",
      "/home/prashant/anaconda3/envs/ML/lib/python3.6/site-packages/sklearn/linear_model/logistic.py:460: FutureWarning: Default multi_class will be changed to 'auto' in 0.22. Specify the multi_class option to silence this warning.\n",
      "  \"this warning.\", FutureWarning)\n"
     ]
    }
   ],
   "source": [
    "# from sklearn import linear_model\n",
    "\n",
    "model = linear_model.LogisticRegression()\n",
    "reg = model.fit(data, target)\n",
    "predict = model.predict([[0,1,2,2]])\n",
    "print(predict) \n",
    "print(model.coef_)"
   ]
  },
  {
   "cell_type": "code",
   "execution_count": 6,
   "metadata": {},
   "outputs": [
    {
     "name": "stdout",
     "output_type": "stream",
     "text": [
      "Priciction:  [0]\n"
     ]
    },
    {
     "name": "stderr",
     "output_type": "stream",
     "text": [
      "/home/prashant/anaconda3/envs/ML/lib/python3.6/site-packages/sklearn/utils/validation.py:761: DataConversionWarning: A column-vector y was passed when a 1d array was expected. Please change the shape of y to (n_samples, ), for example using ravel().\n",
      "  y = column_or_1d(y, warn=True)\n",
      "/home/prashant/anaconda3/envs/ML/lib/python3.6/site-packages/sklearn/utils/validation.py:761: DataConversionWarning: A column-vector y was passed when a 1d array was expected. Please change the shape of y to (n_samples, ), for example using ravel().\n",
      "  y = column_or_1d(y, warn=True)\n"
     ]
    }
   ],
   "source": [
    "from sklearn import svm\n",
    "\n",
    "# SVM\n",
    "svc = svm.SVC(kernel='linear', C=0.05).fit(data, target)\n",
    "reg = svc.fit(data, target)\n",
    "predict = reg.predict([[0,1,2,2]])\n",
    "print(\"Priciction: \", predict)"
   ]
  },
  {
   "cell_type": "code",
   "execution_count": 7,
   "metadata": {},
   "outputs": [
    {
     "name": "stdout",
     "output_type": "stream",
     "text": [
      "[1]\n"
     ]
    }
   ],
   "source": [
    "from sklearn.tree import DecisionTreeClassifier\n",
    "\n",
    "#Desission Tree\n",
    "model = DecisionTreeClassifier(criterion='entropy')\n",
    "reg = model.fit(data, target)\n",
    "predict = model.predict([[1,1,1,1]])\n",
    "print(predict)"
   ]
  },
  {
   "cell_type": "code",
   "execution_count": 8,
   "metadata": {},
   "outputs": [
    {
     "name": "stdout",
     "output_type": "stream",
     "text": [
      "[1]\n"
     ]
    },
    {
     "name": "stderr",
     "output_type": "stream",
     "text": [
      "/home/prashant/anaconda3/envs/ML/lib/python3.6/site-packages/sklearn/ensemble/forest.py:246: FutureWarning: The default value of n_estimators will change from 10 in version 0.20 to 100 in 0.22.\n",
      "  \"10 in version 0.20 to 100 in 0.22.\", FutureWarning)\n",
      "/home/prashant/anaconda3/envs/ML/lib/python3.6/site-packages/ipykernel_launcher.py:5: DataConversionWarning: A column-vector y was passed when a 1d array was expected. Please change the shape of y to (n_samples,), for example using ravel().\n",
      "  \"\"\"\n"
     ]
    }
   ],
   "source": [
    "from sklearn.ensemble import RandomForestClassifier\n",
    "\n",
    "#Random Forest\n",
    "model = RandomForestClassifier()\n",
    "reg = model.fit(data, target)\n",
    "predict = model.predict([[1,1,1,1]])\n",
    "print(predict)"
   ]
  },
  {
   "cell_type": "code",
   "execution_count": 9,
   "metadata": {},
   "outputs": [
    {
     "data": {
      "text/plain": [
       "<Figure size 640x480 with 1 Axes>"
      ]
     },
     "metadata": {},
     "output_type": "display_data"
    },
    {
     "name": "stdout",
     "output_type": "stream",
     "text": [
      "<bound method KMeans.predict of KMeans(algorithm='auto', copy_x=True, init='k-means++', max_iter=300,\n",
      "    n_clusters=3, n_init=10, n_jobs=None, precompute_distances='auto',\n",
      "    random_state=5, tol=0.0001, verbose=0)>\n",
      "[1 1 1 1 1 1 1 1 1 1 1 1 1 1 1 1 1 1 1 1 1 1 1 1 1 1 1 1 1 1 1 1 1 1 1 1 1\n",
      " 1 1 1 1 1 1 1 1 1 1 1 1 1 0 0 0 0 0 0 0 0 0 0 0 0 0 0 0 0 0 0 0 0 0 0 0 0\n",
      " 0 0 0 0 0 0 0 0 0 0 0 0 0 0 0 0 0 0 0 0 0 0 0 0 0 0 2 2 2 2 2 2 2 2 2 2 2\n",
      " 2 2 2 2 2 2 2 2 2 2 2 2 2 2 2 2 2 2 2 2 2 2 2 2 2 2 2 2 2 2 2 2 2 2 2 2 2\n",
      " 2 2]\n",
      "[[1.]\n",
      " [0.]\n",
      " [2.]]\n"
     ]
    },
    {
     "data": {
      "text/plain": [
       "<Figure size 640x480 with 1 Axes>"
      ]
     },
     "metadata": {},
     "output_type": "display_data"
    }
   ],
   "source": [
    "import matplotlib.pyplot as plt\n",
    "from sklearn.cluster import KMeans\n",
    "\n",
    "# In[]\n",
    "#K Mean cluster\n",
    "\n",
    "colormap = np.array(['blue', 'red', 'black'])\n",
    "plt.scatter(data.a, data.b, c=colormap[target.e])\n",
    "plt.title('Data')\n",
    "plt.show()\n",
    "\n",
    "model = KMeans(n_clusters=3, random_state=5).fit(target)\n",
    "predict = model.predict\n",
    "print(predict)\n",
    "label = model.labels_\n",
    "print(label)\n",
    "cluster_center = model.cluster_centers_\n",
    "print(cluster_center)\n",
    "plt.polar(cluster_center, '--or')\n",
    "plt.show()"
   ]
  },
  {
   "cell_type": "code",
   "execution_count": 10,
   "metadata": {},
   "outputs": [
    {
     "name": "stdout",
     "output_type": "stream",
     "text": [
      "[0]\n"
     ]
    },
    {
     "name": "stderr",
     "output_type": "stream",
     "text": [
      "/home/prashant/anaconda3/envs/ML/lib/python3.6/site-packages/ipykernel_launcher.py:5: DataConversionWarning: A column-vector y was passed when a 1d array was expected. Please change the shape of y to (n_samples, ), for example using ravel().\n",
      "  \"\"\"\n"
     ]
    }
   ],
   "source": [
    "from sklearn.neighbors import KNeighborsClassifier\n",
    "\n",
    "#KNeighbors Classifier\n",
    "model = KNeighborsClassifier()\n",
    "reg = model.fit(data, target)\n",
    "predict = model.predict([[1,1,1,1]])\n",
    "print(predict)"
   ]
  },
  {
   "cell_type": "markdown",
   "metadata": {},
   "source": [
    "### Prashant Kumar"
   ]
  }
 ],
 "metadata": {
  "kernelspec": {
   "display_name": "Python 3",
   "language": "python",
   "name": "python3"
  },
  "language_info": {
   "codemirror_mode": {
    "name": "ipython",
    "version": 3
   },
   "file_extension": ".py",
   "mimetype": "text/x-python",
   "name": "python",
   "nbconvert_exporter": "python",
   "pygments_lexer": "ipython3",
   "version": "3.6.7"
  }
 },
 "nbformat": 4,
 "nbformat_minor": 2
}
